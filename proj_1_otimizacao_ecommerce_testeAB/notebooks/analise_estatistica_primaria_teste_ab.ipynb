{
 "cells": [
  {
   "cell_type": "code",
   "execution_count": 3,
   "id": "44324d4d",
   "metadata": {},
   "outputs": [],
   "source": [
    "# Importar as Bibliotecas\n",
    "\n",
    "import pandas as pd\n",
    "from scipy import stats\n",
    "import numpy as np"
   ]
  },
  {
   "cell_type": "code",
   "execution_count": 4,
   "id": "c99b5a27",
   "metadata": {},
   "outputs": [
    {
     "name": "stdout",
     "output_type": "stream",
     "text": [
      "Dados carregados com sucesso!\n"
     ]
    }
   ],
   "source": [
    "# 1. Configuração e Carregamento dos dados\n",
    "# O arquivo é carregado da pasta '/data'\n",
    "\n",
    "try:\n",
    "    df = pd.read_csv('C:/Users/natal/nataliaguarnieri/proj_1_otimizacao_ecommerce_testeAB/data/ecommerce_events_data.csv')\n",
    "    print('Dados carregados com sucesso!')\n",
    "except FileNotFoundError:\n",
    "    print(\"ERRO: Certifique-se de que o arquivo 'ecommerce_events_data.csv' está dentro da pasta 'data'.\")\n",
    "    df = pd.DataFrame()"
   ]
  },
  {
   "cell_type": "code",
   "execution_count": 5,
   "id": "7c5801cf",
   "metadata": {},
   "outputs": [],
   "source": [
    "# 2. Preparação dos dados para o TESTE QUI-QUADRADO (Análise Centrada no USUÁRIO)\n",
    "# Calculamos as contagens de usuários únicos que atingiram cada estágio por grupo.\n",
    "\n",
    "# Total de usuários únicos que entraram no teste\n",
    "total_users = df.groupby('group')['user_id'].nunique()\n",
    "\n",
    "# Usuários únicos que adicionaram ao carrinho\n",
    "users_added_to_cart = df[df['event_type'] == 'add_to_cart'].groupby('group')['user_id'].nunique()\n",
    "\n",
    "# Usuários únicos que compraram\n",
    "users_purchased = df[df['event_type'] == 'purchase'].groupby('group')['user_id'].nunique()\n"
   ]
  },
  {
   "cell_type": "code",
   "execution_count": null,
   "id": "8a789f95",
   "metadata": {},
   "outputs": [
    {
     "name": "stdout",
     "output_type": "stream",
     "text": [
      "\n",
      "======================================================================\n",
      "TESTE A/B: CONVERSÃO VIEW -> ADD TO CART (Eficiência da Página de Produto)\n",
      "======================================================================\n",
      "Taxa de Conversão - Controle: 0.1038\n",
      "Taxa de Conversão - Teste:    0.1429\n",
      "Lift (Aumento): 37.65%\n",
      "Valor-P (p-value): 0.000000000000000\n",
      "\n",
      "CONLUSÃO: Rejeitamos a Hipótese Nula. A diferença é ESTATISTICAMENTE SIGNIFICATIVA. O Teste Venceu.\n"
     ]
    }
   ],
   "source": [
    "# 3. Teste Qui-Quadrado pra o Funil View -> Add To Cart\n",
    "\n",
    "print(\"\\n\" + \"=\"*70)\n",
    "print('TESTE A/B: CONVERSÃO VIEW -> ADD TO CART (Eficiência da Página de Produto)')\n",
    "print(\"=\"*70)\n",
    "\n",
    "# Sucessos: Usuários que adicionaram ao carrinho\n",
    "sucessos_cart = users_added_to_cart\n",
    "\n",
    "# Tentativas: Todos os usuários únicos no teste\n",
    "tentativas_cart = total_users\n",
    "\n",
    "# Falhas: Usuários que visualizaram, mas NÃO adicionaram ao carrinho\n",
    "falhas_cart = tentativas_cart - sucessos_cart\n",
    "\n",
    "# Montagem da Tabela de Contingência 2x2: [Sucesso, Falha]\n",
    "contigency_table_cart = [\n",
    "    [sucessos_cart['control'],falhas_cart['control']],\n",
    "    [sucessos_cart['test'],falhas_cart['test']]\n",
    "]\n",
    "\n",
    "# Execução do Teste Qui-Quadrado\n",
    "chi2_cart, p_value_cart, dof, expected = stats.chi2_contingency(contigency_table_cart)\n",
    "\n",
    "# Cálculo do Lift e Taxas\n",
    "taxa_control_cart = sucessos_cart['control'] / tentativas_cart['control']\n",
    "taxa_test_cart = sucessos_cart['test'] / tentativas_cart['test']\n",
    "lift_cart = (taxa_test_cart / taxa_control_cart - 1) * 100\n",
    "\n",
    "print(f\"Taxa de Conversão - Controle: {taxa_control_cart:.4f}\")\n",
    "print(f\"Taxa de Conversão - Teste:    {taxa_test_cart:.4f}\")\n",
    "print(f\"Lift (Aumento): {lift_cart:.2f}%\")\n",
    "print(f\"Valor-P (p-value): {p_value_cart:.15f}\")\n",
    "\n",
    "if p_value_cart < 0.05:\n",
    "    print(\"\\nCONLUSÃO: Rejeitamos a Hipótese Nula. A diferença é ESTATISTICAMENTE SIGNIFICATIVA. O Teste Venceu.\")\n",
    "else:\n",
    "    print(\"\\nCONLUSÃO: Não rejeitamos a Hipótese Nula. A diferença NÃO é estatisticamente significativa.\")\n",
    "\n"
   ]
  },
  {
   "cell_type": "code",
   "execution_count": 9,
   "id": "7d955388",
   "metadata": {},
   "outputs": [
    {
     "name": "stdout",
     "output_type": "stream",
     "text": [
      "\n",
      "======================================================================\n",
      "TESTE A/B: CONVERSÃO ADD TO CART -> PURCHASE (Eficiência do Checkout)\n",
      "======================================================================\n",
      "Taxa de Conversão - Controle: 0.2508\n",
      "Taxa de Conversão - Teste:    0.2959\n",
      "Lift (Aumento): 17.96%\n",
      "Valor-P (p-value): 0.000000038648969\n",
      "\n",
      "CONLUSÃO: Rejeitamos a Hipótese Nula. A diferença é ESTATISTICAMENTE SIGNIFICATIVA. O Teste Venceu.\n"
     ]
    }
   ],
   "source": [
    "# 4. TESTE QUI-QUADRADO PARA O FUNIL ADD TO CART -> PURCHASE\n",
    "\n",
    "print(\"\\n\" + \"=\"*70)\n",
    "print(\"TESTE A/B: CONVERSÃO ADD TO CART -> PURCHASE (Eficiência do Checkout)\")\n",
    "print(\"=\"*70)\n",
    "\n",
    "# Sucessos: Usuários que compraram\n",
    "sucessos_purchase = users_purchased\n",
    "\n",
    "# Tentativas: Usuários que adicionaram ao carrinho\n",
    "tentativas_purchase = users_added_to_cart\n",
    "\n",
    "# Falhas: Usuários que adicionaram ao carrinho, mas NÃO compraram\n",
    "falhas_purchase = tentativas_purchase - sucessos_purchase\n",
    "\n",
    "# Montagem da Tabela de Contingência 2x2: [Sucesso, Falha]\n",
    "contigency_table_purchase = [\n",
    "    [sucessos_purchase['control'], falhas_purchase['control']],\n",
    "    [sucessos_purchase['test'], falhas_purchase['test']]\n",
    "]\n",
    "\n",
    "# Execução do Teste Qui-Quadrado\n",
    "chi2_purchase, p_value_purchase, dof, expected = stats.chi2_contingency(contigency_table_purchase)\n",
    "\n",
    "# Cálculo do Lift e Taxas\n",
    "taxa_control_purchase = sucessos_purchase['control'] / tentativas_purchase['control']\n",
    "taxa_test_purchase = sucessos_purchase['test'] / tentativas_purchase['test']\n",
    "lift_purchase = (taxa_test_purchase / taxa_control_purchase - 1) * 100\n",
    "\n",
    "print(f\"Taxa de Conversão - Controle: {taxa_control_purchase:.4f}\")\n",
    "print(f\"Taxa de Conversão - Teste:    {taxa_test_purchase:.4f}\")\n",
    "print(f\"Lift (Aumento): {lift_purchase:.2f}%\")\n",
    "print(f\"Valor-P (p-value): {p_value_purchase:.15f}\")\n",
    "\n",
    "if p_value_purchase < 0.05:\n",
    "    print(\"\\nCONLUSÃO: Rejeitamos a Hipótese Nula. A diferença é ESTATISTICAMENTE SIGNIFICATIVA. O Teste Venceu.\")\n",
    "else:\n",
    "    print(\"\\nCONLUSÃO: Não rejeitamos a Hipótese Nula. A diferença NÃO é estatisticamente significativa.\")\n"
   ]
  }
 ],
 "metadata": {
  "kernelspec": {
   "display_name": "Python 3",
   "language": "python",
   "name": "python3"
  },
  "language_info": {
   "codemirror_mode": {
    "name": "ipython",
    "version": 3
   },
   "file_extension": ".py",
   "mimetype": "text/x-python",
   "name": "python",
   "nbconvert_exporter": "python",
   "pygments_lexer": "ipython3",
   "version": "3.13.5"
  }
 },
 "nbformat": 4,
 "nbformat_minor": 5
}
